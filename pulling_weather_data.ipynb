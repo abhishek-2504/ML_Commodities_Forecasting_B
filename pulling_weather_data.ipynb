{
 "cells": [
  {
   "attachments": {},
   "cell_type": "markdown",
   "metadata": {},
   "source": [
    "# Pulling GSOD Weather Data"
   ]
  },
  {
   "attachments": {},
   "cell_type": "markdown",
   "metadata": {},
   "source": [
    "The Global Surface Summary of the Day (GSOD) obtained from the National Centers for Environmental Information (NCEI) contains global daily summary data of over 9000 weather stations' data around the globe. Some of the data recorded includes mean temperature and windspeed. \n",
    "\n",
    "Refer to the GSOD README for indepth elaboration: https://www.ncei.noaa.gov/data/global-summary-of-the-day/doc/readme.txt\n",
    "\n",
    "Archived GSOD Data can be acessed through this link: https://www.ncei.noaa.gov/data/global-summary-of-the-day/archive/\n",
    "\n",
    "The latest daily summary data is normally available 1-2 days after observations."
   ]
  },
  {
   "attachments": {},
   "cell_type": "markdown",
   "metadata": {},
   "source": [
    "The archived raw GSOD tar files are scraped using the gsodpy package. Tar files are too big to be stored on the Github Repo, and have to be downloaded on your local environment."
   ]
  },
  {
   "attachments": {},
   "cell_type": "markdown",
   "metadata": {},
   "source": [
    "station_id_data contains datasets of all weather station ids and their corresponding geographical location. This is required to obtain location-specific aggregated weather data."
   ]
  },
  {
   "cell_type": "code",
   "execution_count": null,
   "metadata": {},
   "outputs": [],
   "source": [
    "import gsodpy as gsod\n",
    "import pandas as pd\n",
    "import datetime\n",
    "import numpy as np\n",
    "import pandas as pd\n",
    "import tarfile\n",
    "import re\n",
    "import os\n",
    "import datetime\n",
    "import io"
   ]
  },
  {
   "cell_type": "code",
   "execution_count": null,
   "metadata": {},
   "outputs": [],
   "source": [
    "years, files = gsod.get_years_files(5)"
   ]
  },
  {
   "cell_type": "code",
   "execution_count": null,
   "metadata": {},
   "outputs": [],
   "source": [
    "loc_list = ['Argentina', 'Brazil', 'California', 'Illinois', 'Iowa', 'Minnesota', 'Nebraska']\n",
    "for location in loc_list:\n",
    "    df = gsod.get_region_data(files, location)\n",
    "    df.to_csv(f\"weather_data/{location}_Weather.csv\")"
   ]
  }
 ],
 "metadata": {
  "kernelspec": {
   "display_name": "Python 3",
   "language": "python",
   "name": "python3"
  },
  "language_info": {
   "name": "python",
   "version": "3.9.7"
  },
  "orig_nbformat": 4,
  "vscode": {
   "interpreter": {
    "hash": "fb62d96c838c20e198ec9ce4431cc40e676121b89700be11e9c07639b64705ab"
   }
  }
 },
 "nbformat": 4,
 "nbformat_minor": 2
}
