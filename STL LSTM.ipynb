{
 "cells": [
  {
   "cell_type": "code",
   "execution_count": 2,
   "metadata": {},
   "outputs": [],
   "source": [
    "import pandas as pd\n",
    "import numpy as np\n",
    "import tensorflow as tf\n",
    "from tensorflow.keras.models import Sequential\n",
    "from tensorflow.keras.layers import Dense, LSTM, Dropout\n",
    "from sklearn import preprocessing           \n",
    "from statsmodels.tsa.seasonal import STL\n",
    "import matplotlib.pyplot as plt"
   ]
  },
  {
   "cell_type": "markdown",
   "metadata": {},
   "source": [
    "Get Data"
   ]
  },
  {
   "cell_type": "code",
   "execution_count": 3,
   "metadata": {},
   "outputs": [
    {
     "ename": "FileNotFoundError",
     "evalue": "[WinError 2] The system cannot find the file specified: 'weather_data'",
     "output_type": "error",
     "traceback": [
      "\u001b[1;31m---------------------------------------------------------------------------\u001b[0m",
      "\u001b[1;31mFileNotFoundError\u001b[0m                         Traceback (most recent call last)",
      "Cell \u001b[1;32mIn[3], line 3\u001b[0m\n\u001b[0;32m      1\u001b[0m \u001b[39mimport\u001b[39;00m \u001b[39mos\u001b[39;00m \n\u001b[0;32m      2\u001b[0m \u001b[39m#Weather\u001b[39;00m\n\u001b[1;32m----> 3\u001b[0m os\u001b[39m.\u001b[39;49mchdir(\u001b[39m\"\u001b[39;49m\u001b[39mweather_data\u001b[39;49m\u001b[39m\"\u001b[39;49m)\n\u001b[0;32m      4\u001b[0m fileList \u001b[39m=\u001b[39m os\u001b[39m.\u001b[39mlistdir()\n\u001b[0;32m      5\u001b[0m weather_data \u001b[39m=\u001b[39m {}\n",
      "\u001b[1;31mFileNotFoundError\u001b[0m: [WinError 2] The system cannot find the file specified: 'weather_data'"
     ]
    }
   ],
   "source": [
    "import os \n",
    "#Weather\n",
    "os.chdir(\"weather_data\")\n",
    "fileList = os.listdir()\n",
    "weather_data = {}\n",
    "for i in fileList:\n",
    "    weather_data[i.split(\"_\")[0]] = pd.read_csv(i)\n",
    "\n",
    "#Price\n",
    "os.chdir(\"price_data\")\n",
    "fileList = os.listdir()\n",
    "price_data = {}\n",
    "for i in fileList:\n",
    "    price_data[i.split(\"_\")[0]] = pd.read_csv(i)"
   ]
  },
  {
   "cell_type": "code",
   "execution_count": null,
   "metadata": {},
   "outputs": [
    {
     "data": {
      "text/html": [
       "<div>\n",
       "<style scoped>\n",
       "    .dataframe tbody tr th:only-of-type {\n",
       "        vertical-align: middle;\n",
       "    }\n",
       "\n",
       "    .dataframe tbody tr th {\n",
       "        vertical-align: top;\n",
       "    }\n",
       "\n",
       "    .dataframe thead th {\n",
       "        text-align: right;\n",
       "    }\n",
       "</style>\n",
       "<table border=\"1\" class=\"dataframe\">\n",
       "  <thead>\n",
       "    <tr style=\"text-align: right;\">\n",
       "      <th></th>\n",
       "      <th>Date</th>\n",
       "      <th>Open</th>\n",
       "      <th>High</th>\n",
       "      <th>Low</th>\n",
       "      <th>Close</th>\n",
       "      <th>Adj Close</th>\n",
       "      <th>Volume</th>\n",
       "    </tr>\n",
       "  </thead>\n",
       "  <tbody>\n",
       "    <tr>\n",
       "      <th>0</th>\n",
       "      <td>2018-01-02</td>\n",
       "      <td>956.50</td>\n",
       "      <td>960.00</td>\n",
       "      <td>949.50</td>\n",
       "      <td>955.00</td>\n",
       "      <td>955.00</td>\n",
       "      <td>2900</td>\n",
       "    </tr>\n",
       "    <tr>\n",
       "      <th>1</th>\n",
       "      <td>2018-01-03</td>\n",
       "      <td>956.25</td>\n",
       "      <td>960.50</td>\n",
       "      <td>955.00</td>\n",
       "      <td>959.75</td>\n",
       "      <td>959.75</td>\n",
       "      <td>2582</td>\n",
       "    </tr>\n",
       "    <tr>\n",
       "      <th>2</th>\n",
       "      <td>2018-01-04</td>\n",
       "      <td>959.25</td>\n",
       "      <td>960.00</td>\n",
       "      <td>950.25</td>\n",
       "      <td>959.25</td>\n",
       "      <td>959.25</td>\n",
       "      <td>2133</td>\n",
       "    </tr>\n",
       "    <tr>\n",
       "      <th>3</th>\n",
       "      <td>2018-01-05</td>\n",
       "      <td>960.00</td>\n",
       "      <td>966.50</td>\n",
       "      <td>960.00</td>\n",
       "      <td>961.50</td>\n",
       "      <td>961.50</td>\n",
       "      <td>1278</td>\n",
       "    </tr>\n",
       "    <tr>\n",
       "      <th>4</th>\n",
       "      <td>2018-01-08</td>\n",
       "      <td>960.75</td>\n",
       "      <td>962.25</td>\n",
       "      <td>951.50</td>\n",
       "      <td>958.25</td>\n",
       "      <td>958.25</td>\n",
       "      <td>988</td>\n",
       "    </tr>\n",
       "    <tr>\n",
       "      <th>...</th>\n",
       "      <td>...</td>\n",
       "      <td>...</td>\n",
       "      <td>...</td>\n",
       "      <td>...</td>\n",
       "      <td>...</td>\n",
       "      <td>...</td>\n",
       "      <td>...</td>\n",
       "    </tr>\n",
       "    <tr>\n",
       "      <th>1254</th>\n",
       "      <td>2022-12-23</td>\n",
       "      <td>1468.75</td>\n",
       "      <td>1484.00</td>\n",
       "      <td>1466.25</td>\n",
       "      <td>1479.00</td>\n",
       "      <td>1479.00</td>\n",
       "      <td>52836</td>\n",
       "    </tr>\n",
       "    <tr>\n",
       "      <th>1255</th>\n",
       "      <td>2022-12-27</td>\n",
       "      <td>1490.00</td>\n",
       "      <td>1516.75</td>\n",
       "      <td>1478.25</td>\n",
       "      <td>1482.25</td>\n",
       "      <td>1482.25</td>\n",
       "      <td>61925</td>\n",
       "    </tr>\n",
       "    <tr>\n",
       "      <th>1256</th>\n",
       "      <td>2022-12-28</td>\n",
       "      <td>1483.50</td>\n",
       "      <td>1509.75</td>\n",
       "      <td>1482.75</td>\n",
       "      <td>1506.50</td>\n",
       "      <td>1506.50</td>\n",
       "      <td>42705</td>\n",
       "    </tr>\n",
       "    <tr>\n",
       "      <th>1257</th>\n",
       "      <td>2022-12-29</td>\n",
       "      <td>1504.75</td>\n",
       "      <td>1516.25</td>\n",
       "      <td>1501.25</td>\n",
       "      <td>1508.75</td>\n",
       "      <td>1508.75</td>\n",
       "      <td>27307</td>\n",
       "    </tr>\n",
       "    <tr>\n",
       "      <th>1258</th>\n",
       "      <td>2022-12-30</td>\n",
       "      <td>1508.00</td>\n",
       "      <td>1532.25</td>\n",
       "      <td>1507.75</td>\n",
       "      <td>1519.25</td>\n",
       "      <td>1519.25</td>\n",
       "      <td>7092</td>\n",
       "    </tr>\n",
       "  </tbody>\n",
       "</table>\n",
       "<p>1259 rows × 7 columns</p>\n",
       "</div>"
      ],
      "text/plain": [
       "            Date     Open     High      Low    Close  Adj Close  Volume\n",
       "0     2018-01-02   956.50   960.00   949.50   955.00     955.00    2900\n",
       "1     2018-01-03   956.25   960.50   955.00   959.75     959.75    2582\n",
       "2     2018-01-04   959.25   960.00   950.25   959.25     959.25    2133\n",
       "3     2018-01-05   960.00   966.50   960.00   961.50     961.50    1278\n",
       "4     2018-01-08   960.75   962.25   951.50   958.25     958.25     988\n",
       "...          ...      ...      ...      ...      ...        ...     ...\n",
       "1254  2022-12-23  1468.75  1484.00  1466.25  1479.00    1479.00   52836\n",
       "1255  2022-12-27  1490.00  1516.75  1478.25  1482.25    1482.25   61925\n",
       "1256  2022-12-28  1483.50  1509.75  1482.75  1506.50    1506.50   42705\n",
       "1257  2022-12-29  1504.75  1516.25  1501.25  1508.75    1508.75   27307\n",
       "1258  2022-12-30  1508.00  1532.25  1507.75  1519.25    1519.25    7092\n",
       "\n",
       "[1259 rows x 7 columns]"
      ]
     },
     "execution_count": 124,
     "metadata": {},
     "output_type": "execute_result"
    }
   ],
   "source": [
    "price_data[\"SoybeanFutures\"]"
   ]
  },
  {
   "attachments": {},
   "cell_type": "markdown",
   "metadata": {},
   "source": [
    "Set Date as Index"
   ]
  },
  {
   "cell_type": "code",
   "execution_count": null,
   "metadata": {},
   "outputs": [],
   "source": [
    "for i in weather_data:\n",
    "    weather_data[i]['DATE'] = pd.to_datetime(weather_data[i]['DATE'])\n",
    "    weather_data[i].set_index('DATE', inplace=True)\n",
    "\n",
    "for i in price_data:\n",
    "    df = price_data[i]\n",
    "    df['Date'] = pd.to_datetime(df['Date'])\n",
    "    df.set_index('Date', inplace=True)"
   ]
  },
  {
   "attachments": {},
   "cell_type": "markdown",
   "metadata": {},
   "source": [
    "Time range of country data are different"
   ]
  },
  {
   "cell_type": "code",
   "execution_count": null,
   "metadata": {},
   "outputs": [
    {
     "name": "stdout",
     "output_type": "stream",
     "text": [
      "Argentina 1824\n",
      "Brazil 1824\n",
      "California 1826\n",
      "Illinois 1826\n",
      "Iowa 1826\n",
      "Minnesota 1826\n",
      "Nebraska 1826\n"
     ]
    }
   ],
   "source": [
    "for i in weather_data:\n",
    "    print(i + \" \" + str(len(weather_data[i])))"
   ]
  },
  {
   "cell_type": "code",
   "execution_count": null,
   "metadata": {},
   "outputs": [
    {
     "name": "stdout",
     "output_type": "stream",
     "text": [
      "Argentina: start 2018-01-01    end 2022-12-31\n",
      "Brazil: start 2018-01-01    end 2022-12-31\n",
      "California: start 2018-01-01    end 2022-12-31\n",
      "Illinois: start 2018-01-01    end 2022-12-31\n",
      "Iowa: start 2018-01-01    end 2022-12-31\n",
      "Minnesota: start 2018-01-01    end 2022-12-31\n",
      "Nebraska: start 2018-01-01    end 2022-12-31\n"
     ]
    }
   ],
   "source": [
    "for i in weather_data:\n",
    "    start_date = str(weather_data[i][\"DATE\"][0])\n",
    "    end_date = str(weather_data[i][\"DATE\"].iloc[-1])\n",
    "    print(f\"{i}: start {start_date}    end {end_date}\" )"
   ]
  },
  {
   "attachments": {},
   "cell_type": "markdown",
   "metadata": {},
   "source": [
    "Weather Data Contains Gaps and last date differs from price data"
   ]
  },
  {
   "cell_type": "code",
   "execution_count": null,
   "metadata": {},
   "outputs": [],
   "source": [
    "for i in weather_data:\n",
    "    weather_data[i] = weather_data[i]\n",
    "    weather_data[i] = weather_data[i].asfreq(pd.infer_freq(weather_data[i].index)) #interpolate missing dates\n",
    "    weather_data[i] = weather_data[i].fillna(method='bfill')\n",
    "    weather_data[i] = weather_data[i][:-1] #remove last rows in weather data\n",
    "\n",
    "soybean = df.asfreq(pd.infer_freq(df.index))\n",
    "df = df.fillna(method='bfill')"
   ]
  },
  {
   "cell_type": "code",
   "execution_count": null,
   "metadata": {},
   "outputs": [
    {
     "name": "stdout",
     "output_type": "stream",
     "text": [
      "Argentina: start 2018-01-01 00:00:00    end 2022-12-30 00:00:00\n",
      "Brazil: start 2018-01-01 00:00:00    end 2022-12-30 00:00:00\n",
      "California: start 2018-01-01 00:00:00    end 2022-12-30 00:00:00\n",
      "Illinois: start 2018-01-01 00:00:00    end 2022-12-30 00:00:00\n",
      "Iowa: start 2018-01-01 00:00:00    end 2022-12-30 00:00:00\n",
      "Minnesota: start 2018-01-01 00:00:00    end 2022-12-30 00:00:00\n",
      "Nebraska: start 2018-01-01 00:00:00    end 2022-12-30 00:00:00\n"
     ]
    }
   ],
   "source": [
    "for i in weather_data:\n",
    "    start_date = str(weather_data[i].index[0])\n",
    "    end_date = str(weather_data[i].index[-1])\n",
    "    print(f\"{i}: start {start_date}    end {end_date}\" )"
   ]
  },
  {
   "attachments": {},
   "cell_type": "markdown",
   "metadata": {},
   "source": [
    "Preprocessing"
   ]
  },
  {
   "cell_type": "code",
   "execution_count": null,
   "metadata": {},
   "outputs": [],
   "source": [
    "#Price\n",
    "soybean_price = price_data[\"SoybeanFutures\"]\n",
    "soybean_close_price = soybean_price[\"Close\"]\n",
    "\n",
    "#Features\n",
    "features = pd.DataFrame()\n",
    "num_feature = 1 #total number of features, including close price and all weather data\n",
    "for i in weather_data:\n",
    "    df = weather_data[i]\n",
    "    features = pd.concat((features, df), axis=1)\n",
    "    num_feature += len(weather_data[i].columns)\n",
    "\n",
    "#features = pd.merge(soybean_price, features, left_index=True, right_index=True, how='inner') #Include close price as a feature\n"
   ]
  },
  {
   "attachments": {},
   "cell_type": "markdown",
   "metadata": {},
   "source": [
    "STL Decomposition"
   ]
  },
  {
   "cell_type": "code",
   "execution_count": null,
   "metadata": {},
   "outputs": [],
   "source": [
    "price_stl = STL(soybean_close_price).fit #perform STL decomposition on price\n",
    "price_comp = [price_stl.trend, price_stl.seasonal, price_stl.resid]  #store components into price list\n",
    "features_comp = [pd.merge(price_comp[i], features, left_index=True, right_index=True, how='inner') for i in range(3)] # generate features list where each element contains all weather features concatenated with associated component\n",
    "#features_stl = features.apply(stl_decomp)"
   ]
  },
  {
   "cell_type": "code",
   "execution_count": null,
   "metadata": {},
   "outputs": [
    {
     "data": {
      "text/plain": [
       "Text(0.5, 1.0, 'Residual')"
      ]
     },
     "execution_count": 87,
     "metadata": {},
     "output_type": "execute_result"
    },
    {
     "data": {
      "image/png": "[encoded data removed]",
      "text/plain": [
       "<Figure size 640x480 with 3 Axes>"
      ]
     },
     "metadata": {},
     "output_type": "display_data"
    }
   ],
   "source": [
    "fig, (ax1, ax2, ax3) = plt.subplots(3,layout='constrained')\n",
    "fig.suptitle('STL Decomposition of Soybean CLose Price')\n",
    "ax1.plot(price_comp[0])\n",
    "ax1.set_title('Trend')\n",
    "ax2.plot(price_comp[1])\n",
    "ax2.set_title('Seasonal')\n",
    "ax3.plot(price_comp[2])\n",
    "ax3.set_title('Residual')"
   ]
  },
  {
   "attachments": {},
   "cell_type": "markdown",
   "metadata": {},
   "source": [
    "Sample Data"
   ]
  },
  {
   "cell_type": "code",
   "execution_count": null,
   "metadata": {},
   "outputs": [],
   "source": [
    "def sampleData(features, price ,sampleLength):\n",
    "  x = []\n",
    "  y = []\n",
    "  for i in range(len(price)-sampleLength-1):\n",
    "    x += [features[i:i+sampleLength]]\n",
    "    y += [price[i+sampleLength]]\n",
    "\n",
    "  x = np.array(x)\n",
    "  y = np.array(y)\n",
    "\n",
    "  y = y[..., np.newaxis]\n",
    "  \n",
    "  return x, y"
   ]
  },
  {
   "cell_type": "code",
   "execution_count": null,
   "metadata": {},
   "outputs": [],
   "source": [
    "sampleLength = 30\n",
    "x = [[],[],[]]\n",
    "y = [[],[],[]]\n",
    "for i in range(3):\n",
    "    x[i], y[i] = sampleData(features_comp[i].to_numpy(), price_comp[i].to_numpy(),30)\n"
   ]
  },
  {
   "attachments": {},
   "cell_type": "markdown",
   "metadata": {},
   "source": [
    "Train Test Split"
   ]
  },
  {
   "cell_type": "code",
   "execution_count": null,
   "metadata": {},
   "outputs": [],
   "source": [
    "def train_test_split(x, y, split=0.2):\n",
    "  trainLen = round(len(x)*(1-split))\n",
    "  trainX, trainY, testX, testY = x[:trainLen], y[:trainLen], x[trainLen:], y[trainLen:]\n",
    "  return trainX, trainY, testX, testY"
   ]
  },
  {
   "cell_type": "code",
   "execution_count": null,
   "metadata": {},
   "outputs": [],
   "source": [
    "trainX = [[],[],[]]\n",
    "trainY = [[],[],[]]\n",
    "testX = [[],[],[]]\n",
    "testY = [[],[],[]]\n",
    "for i in range(3):\n",
    "    trainX[i], trainY[i], testX[i], testY[i] = train_test_split(x[i], y[i])"
   ]
  },
  {
   "attachments": {},
   "cell_type": "markdown",
   "metadata": {},
   "source": [
    "Model"
   ]
  },
  {
   "cell_type": "code",
   "execution_count": null,
   "metadata": {},
   "outputs": [],
   "source": [
    "def model():\n",
    "    return Sequential([\n",
    "      LSTM(128, input_shape=(sampleLength,num_feature), return_sequences = True),\n",
    "      Dropout(0.2),\n",
    "      LSTM(128),\n",
    "      Dropout(0.2),\n",
    "      Dense(16, activation=\"relu\"),\n",
    "      Dense(1, activation=\"linear\")\n",
    "    ])"
   ]
  },
  {
   "cell_type": "code",
   "execution_count": null,
   "metadata": {},
   "outputs": [],
   "source": [
    "#3 models for: Trend, Seasonal, Residual\n",
    "trend_model = model()\n",
    "seasonal_model = model()\n",
    "residual_model = model()"
   ]
  },
  {
   "attachments": {},
   "cell_type": "markdown",
   "metadata": {},
   "source": [
    "Compile and Optimizer"
   ]
  },
  {
   "cell_type": "code",
   "execution_count": null,
   "metadata": {},
   "outputs": [],
   "source": [
    "def compile(model, lr=0.0001):\n",
    "    opt = tf.keras.optimizers.Adam(learning_rate = 0.0001)\n",
    "    model.compile(\n",
    "        optimizer=\"adam\",\n",
    "        loss=\"mean_squared_error\",\n",
    "        metrics=[\"mse\"]\n",
    "        )"
   ]
  },
  {
   "cell_type": "code",
   "execution_count": null,
   "metadata": {},
   "outputs": [],
   "source": [
    "compile(trend_model)\n",
    "compile(seasonal_model)\n",
    "compile(residual_model)"
   ]
  },
  {
   "attachments": {},
   "cell_type": "markdown",
   "metadata": {},
   "source": [
    "Fitting"
   ]
  },
  {
   "cell_type": "code",
   "execution_count": null,
   "metadata": {},
   "outputs": [],
   "source": [
    "def fit(model,trainX, trainY, testX, testY, epochs = 40, batch_size = 32):\n",
    "    return model.fit(\n",
    "            trainX, trainY,\n",
    "            validation_data = (testX, testY),\n",
    "            epochs = epochs,\n",
    "            batch_size = batch_size)"
   ]
  },
  {
   "cell_type": "code",
   "execution_count": null,
   "metadata": {},
   "outputs": [
    {
     "name": "stdout",
     "output_type": "stream",
     "text": [
      "Epoch 1/40\n",
      "45/45 [==============================] - 5s 52ms/step - loss: 1101884.6250 - mse: 1101884.6250 - val_loss: 2337521.2500 - val_mse: 2337521.2500\n",
      "Epoch 2/40\n",
      "45/45 [==============================] - 2s 37ms/step - loss: 1045451.0000 - mse: 1045451.0000 - val_loss: 2249059.7500 - val_mse: 2249059.7500\n",
      "Epoch 3/40\n",
      "45/45 [==============================] - 2s 38ms/step - loss: 980939.9375 - mse: 980939.8750 - val_loss: 2139990.7500 - val_mse: 2139990.7500\n",
      "Epoch 4/40\n",
      "45/45 [==============================] - 2s 37ms/step - loss: 902861.5625 - mse: 902861.5625 - val_loss: 2008407.5000 - val_mse: 2008407.5000\n",
      "Epoch 5/40\n",
      "45/45 [==============================] - 2s 37ms/step - loss: 813945.9375 - mse: 813945.9375 - val_loss: 1859792.0000 - val_mse: 1859792.0000\n",
      "Epoch 6/40\n",
      "45/45 [==============================] - 2s 37ms/step - loss: 717583.0625 - mse: 717583.0625 - val_loss: 1698328.6250 - val_mse: 1698328.6250\n",
      "Epoch 7/40\n",
      "45/45 [==============================] - 2s 39ms/step - loss: 617947.0625 - mse: 617947.0625 - val_loss: 1530813.3750 - val_mse: 1530813.3750\n",
      "Epoch 8/40\n",
      "45/45 [==============================] - 2s 38ms/step - loss: 519065.3125 - mse: 519065.3125 - val_loss: 1361584.8750 - val_mse: 1361584.8750\n",
      "Epoch 9/40\n",
      "45/45 [==============================] - 2s 38ms/step - loss: 425549.6250 - mse: 425549.6250 - val_loss: 1197119.3750 - val_mse: 1197119.3750\n",
      "Epoch 10/40\n",
      "45/45 [==============================] - 2s 39ms/step - loss: 340331.6250 - mse: 340331.6250 - val_loss: 1042477.7500 - val_mse: 1042477.7500\n",
      "Epoch 11/40\n",
      "45/45 [==============================] - 2s 38ms/step - loss: 265466.1562 - mse: 265466.1562 - val_loss: 899149.8750 - val_mse: 899149.8750\n",
      "Epoch 12/40\n",
      "45/45 [==============================] - 2s 36ms/step - loss: 205669.5938 - mse: 205669.5938 - val_loss: 772640.4375 - val_mse: 772640.4375\n",
      "Epoch 13/40\n",
      "45/45 [==============================] - 2s 39ms/step - loss: 156724.1875 - mse: 156724.1875 - val_loss: 664002.8750 - val_mse: 664002.8750\n",
      "Epoch 14/40\n",
      "45/45 [==============================] - 2s 44ms/step - loss: 118537.8750 - mse: 118537.8750 - val_loss: 572730.1250 - val_mse: 572730.1250\n",
      "Epoch 15/40\n",
      "45/45 [==============================] - 2s 38ms/step - loss: 92960.6484 - mse: 92960.6484 - val_loss: 498608.1875 - val_mse: 498608.1875\n",
      "Epoch 16/40\n",
      "45/45 [==============================] - 2s 37ms/step - loss: 75057.0469 - mse: 75057.0469 - val_loss: 440057.9062 - val_mse: 440057.9062\n",
      "Epoch 17/40\n",
      "45/45 [==============================] - 2s 37ms/step - loss: 64859.0898 - mse: 64859.0898 - val_loss: 395068.3125 - val_mse: 395068.3125\n",
      "Epoch 18/40\n",
      "45/45 [==============================] - 2s 37ms/step - loss: 57196.6016 - mse: 57196.6016 - val_loss: 360778.8125 - val_mse: 360778.8125\n",
      "Epoch 19/40\n",
      "45/45 [==============================] - 2s 37ms/step - loss: 53846.8633 - mse: 53846.8633 - val_loss: 335567.5000 - val_mse: 335567.5000\n",
      "Epoch 20/40\n",
      "45/45 [==============================] - 2s 37ms/step - loss: 51893.0781 - mse: 51893.0781 - val_loss: 315923.7812 - val_mse: 315923.7812\n",
      "Epoch 21/40\n",
      "45/45 [==============================] - 2s 38ms/step - loss: 50913.2539 - mse: 50913.2539 - val_loss: 303015.0625 - val_mse: 303015.0625\n",
      "Epoch 22/40\n",
      "45/45 [==============================] - 2s 37ms/step - loss: 49421.5781 - mse: 49421.5781 - val_loss: 295400.0625 - val_mse: 295400.0625\n",
      "Epoch 23/40\n",
      "45/45 [==============================] - 2s 38ms/step - loss: 49214.9531 - mse: 49214.9531 - val_loss: 289455.0312 - val_mse: 289455.0312\n",
      "Epoch 24/40\n",
      "45/45 [==============================] - 2s 38ms/step - loss: 50144.4688 - mse: 50144.4688 - val_loss: 284971.0625 - val_mse: 284971.0625\n",
      "Epoch 25/40\n",
      "45/45 [==============================] - 2s 37ms/step - loss: 48760.0156 - mse: 48760.0156 - val_loss: 282477.9375 - val_mse: 282477.9375\n",
      "Epoch 26/40\n",
      "45/45 [==============================] - 2s 37ms/step - loss: 50110.4492 - mse: 50110.4492 - val_loss: 279873.0938 - val_mse: 279873.0938\n",
      "Epoch 27/40\n",
      "45/45 [==============================] - 2s 37ms/step - loss: 49252.8047 - mse: 49252.8047 - val_loss: 279274.6250 - val_mse: 279274.6250\n",
      "Epoch 28/40\n",
      "45/45 [==============================] - 2s 38ms/step - loss: 48566.9805 - mse: 48566.9805 - val_loss: 276830.4688 - val_mse: 276830.4688\n",
      "Epoch 29/40\n",
      "45/45 [==============================] - 2s 39ms/step - loss: 49891.7227 - mse: 49891.7227 - val_loss: 277457.1562 - val_mse: 277457.1562\n",
      "Epoch 30/40\n",
      "45/45 [==============================] - 2s 38ms/step - loss: 49903.5820 - mse: 49903.5820 - val_loss: 277275.7188 - val_mse: 277275.7188\n",
      "Epoch 31/40\n",
      "45/45 [==============================] - 2s 39ms/step - loss: 49182.8047 - mse: 49182.8047 - val_loss: 277617.2188 - val_mse: 277617.2188\n",
      "Epoch 32/40\n",
      "45/45 [==============================] - 2s 38ms/step - loss: 50038.6680 - mse: 50038.6680 - val_loss: 278405.8750 - val_mse: 278405.8750\n",
      "Epoch 33/40\n",
      "45/45 [==============================] - 2s 36ms/step - loss: 49131.1289 - mse: 49131.1289 - val_loss: 277537.9062 - val_mse: 277537.9062\n",
      "Epoch 34/40\n",
      "45/45 [==============================] - 2s 37ms/step - loss: 49767.1172 - mse: 49767.1172 - val_loss: 278594.3750 - val_mse: 278594.3750\n",
      "Epoch 35/40\n",
      "45/45 [==============================] - 2s 38ms/step - loss: 50115.5938 - mse: 50115.5938 - val_loss: 278476.5938 - val_mse: 278476.5938\n",
      "Epoch 36/40\n",
      "45/45 [==============================] - 2s 37ms/step - loss: 49605.4297 - mse: 49605.4297 - val_loss: 278349.3125 - val_mse: 278349.3125\n",
      "Epoch 37/40\n",
      "45/45 [==============================] - 2s 37ms/step - loss: 49818.8750 - mse: 49818.8750 - val_loss: 277261.6250 - val_mse: 277261.6250\n",
      "Epoch 38/40\n",
      "45/45 [==============================] - 2s 37ms/step - loss: 48673.8086 - mse: 48673.8086 - val_loss: 276625.0625 - val_mse: 276625.0625\n",
      "Epoch 39/40\n",
      "45/45 [==============================] - 2s 40ms/step - loss: 48946.2031 - mse: 48946.2031 - val_loss: 276431.2812 - val_mse: 276431.2812\n",
      "Epoch 40/40\n",
      "45/45 [==============================] - 2s 37ms/step - loss: 49029.5078 - mse: 49029.5078 - val_loss: 275438.1875 - val_mse: 275438.1875\n",
      "Epoch 1/40\n",
      "45/45 [==============================] - 5s 52ms/step - loss: 16.4054 - mse: 16.4054 - val_loss: 91.0382 - val_mse: 91.0382\n",
      "Epoch 2/40\n",
      "45/45 [==============================] - 2s 37ms/step - loss: 16.4845 - mse: 16.4845 - val_loss: 90.9850 - val_mse: 90.9850\n",
      "Epoch 3/40\n",
      "45/45 [==============================] - 2s 36ms/step - loss: 16.3938 - mse: 16.3938 - val_loss: 90.9430 - val_mse: 90.9430\n",
      "Epoch 4/40\n",
      "45/45 [==============================] - 2s 37ms/step - loss: 16.4081 - mse: 16.4081 - val_loss: 90.9990 - val_mse: 90.9990\n",
      "Epoch 5/40\n",
      "45/45 [==============================] - 2s 37ms/step - loss: 16.3929 - mse: 16.3929 - val_loss: 91.0507 - val_mse: 91.0507\n",
      "Epoch 6/40\n",
      "45/45 [==============================] - 2s 37ms/step - loss: 16.3769 - mse: 16.3769 - val_loss: 91.0396 - val_mse: 91.0396\n",
      "Epoch 7/40\n",
      "45/45 [==============================] - 2s 40ms/step - loss: 16.3909 - mse: 16.3909 - val_loss: 91.0233 - val_mse: 91.0233\n",
      "Epoch 8/40\n",
      "45/45 [==============================] - 2s 38ms/step - loss: 16.3789 - mse: 16.3789 - val_loss: 91.0016 - val_mse: 91.0016\n",
      "Epoch 9/40\n",
      "45/45 [==============================] - 2s 40ms/step - loss: 16.3713 - mse: 16.3713 - val_loss: 90.9600 - val_mse: 90.9600\n",
      "Epoch 10/40\n",
      "45/45 [==============================] - 2s 40ms/step - loss: 16.3588 - mse: 16.3588 - val_loss: 90.8508 - val_mse: 90.8508\n",
      "Epoch 11/40\n",
      "45/45 [==============================] - 2s 39ms/step - loss: 16.3266 - mse: 16.3266 - val_loss: 90.5894 - val_mse: 90.5894\n",
      "Epoch 12/40\n",
      "45/45 [==============================] - 2s 39ms/step - loss: 16.1978 - mse: 16.1978 - val_loss: 89.1508 - val_mse: 89.1508\n",
      "Epoch 13/40\n",
      "45/45 [==============================] - 2s 38ms/step - loss: 14.5250 - mse: 14.5250 - val_loss: 75.6929 - val_mse: 75.6929\n",
      "Epoch 14/40\n",
      "45/45 [==============================] - 2s 39ms/step - loss: 12.0952 - mse: 12.0952 - val_loss: 66.8661 - val_mse: 66.8661\n",
      "Epoch 15/40\n",
      "45/45 [==============================] - 2s 38ms/step - loss: 11.2167 - mse: 11.2167 - val_loss: 67.2237 - val_mse: 67.2237\n",
      "Epoch 16/40\n",
      "45/45 [==============================] - 2s 37ms/step - loss: 10.8178 - mse: 10.8178 - val_loss: 61.9098 - val_mse: 61.9098\n",
      "Epoch 17/40\n",
      "45/45 [==============================] - 2s 37ms/step - loss: 9.9944 - mse: 9.9944 - val_loss: 61.7546 - val_mse: 61.7546\n",
      "Epoch 18/40\n",
      "45/45 [==============================] - 2s 37ms/step - loss: 9.6202 - mse: 9.6202 - val_loss: 54.6794 - val_mse: 54.6794\n",
      "Epoch 19/40\n",
      "45/45 [==============================] - 2s 37ms/step - loss: 9.6767 - mse: 9.6767 - val_loss: 54.5564 - val_mse: 54.5564\n",
      "Epoch 20/40\n",
      "45/45 [==============================] - 2s 37ms/step - loss: 9.2538 - mse: 9.2538 - val_loss: 51.8882 - val_mse: 51.8882\n",
      "Epoch 21/40\n",
      "45/45 [==============================] - 2s 38ms/step - loss: 9.2759 - mse: 9.2759 - val_loss: 51.7455 - val_mse: 51.7455\n",
      "Epoch 22/40\n",
      "45/45 [==============================] - 2s 38ms/step - loss: 8.6524 - mse: 8.6524 - val_loss: 47.3585 - val_mse: 47.3585\n",
      "Epoch 23/40\n",
      "45/45 [==============================] - 2s 36ms/step - loss: 8.7410 - mse: 8.7410 - val_loss: 47.4570 - val_mse: 47.4570\n",
      "Epoch 24/40\n",
      "45/45 [==============================] - 2s 38ms/step - loss: 8.3149 - mse: 8.3149 - val_loss: 47.4067 - val_mse: 47.4067\n",
      "Epoch 25/40\n",
      "45/45 [==============================] - 2s 37ms/step - loss: 8.3060 - mse: 8.3060 - val_loss: 49.4001 - val_mse: 49.4001\n",
      "Epoch 26/40\n",
      "45/45 [==============================] - 2s 37ms/step - loss: 7.9366 - mse: 7.9366 - val_loss: 46.8577 - val_mse: 46.8577\n",
      "Epoch 27/40\n",
      "45/45 [==============================] - 2s 38ms/step - loss: 8.2577 - mse: 8.2577 - val_loss: 45.9769 - val_mse: 45.9769\n",
      "Epoch 28/40\n",
      "45/45 [==============================] - 2s 36ms/step - loss: 8.1465 - mse: 8.1465 - val_loss: 45.8390 - val_mse: 45.8390\n",
      "Epoch 29/40\n",
      "45/45 [==============================] - 2s 37ms/step - loss: 7.8857 - mse: 7.8857 - val_loss: 45.1874 - val_mse: 45.1874\n",
      "Epoch 30/40\n",
      "45/45 [==============================] - 2s 37ms/step - loss: 7.4621 - mse: 7.4621 - val_loss: 45.0529 - val_mse: 45.0529\n",
      "Epoch 31/40\n",
      "45/45 [==============================] - 2s 38ms/step - loss: 7.7312 - mse: 7.7312 - val_loss: 46.5273 - val_mse: 46.5273\n",
      "Epoch 32/40\n",
      "45/45 [==============================] - 2s 37ms/step - loss: 7.7312 - mse: 7.7312 - val_loss: 45.6028 - val_mse: 45.6028\n",
      "Epoch 33/40\n",
      "45/45 [==============================] - 2s 37ms/step - loss: 7.5196 - mse: 7.5196 - val_loss: 44.7387 - val_mse: 44.7387\n",
      "Epoch 34/40\n",
      "45/45 [==============================] - 2s 38ms/step - loss: 6.9748 - mse: 6.9748 - val_loss: 45.1643 - val_mse: 45.1643\n",
      "Epoch 35/40\n",
      "45/45 [==============================] - 2s 37ms/step - loss: 7.0985 - mse: 7.0985 - val_loss: 48.4000 - val_mse: 48.4000\n",
      "Epoch 36/40\n",
      "45/45 [==============================] - 2s 37ms/step - loss: 7.6045 - mse: 7.6045 - val_loss: 46.4734 - val_mse: 46.4734\n",
      "Epoch 37/40\n",
      "45/45 [==============================] - 2s 37ms/step - loss: 7.0889 - mse: 7.0889 - val_loss: 43.6865 - val_mse: 43.6865\n",
      "Epoch 38/40\n",
      "45/45 [==============================] - 2s 38ms/step - loss: 6.6596 - mse: 6.6596 - val_loss: 42.7342 - val_mse: 42.7342\n",
      "Epoch 39/40\n",
      "45/45 [==============================] - 2s 37ms/step - loss: 6.9441 - mse: 6.9441 - val_loss: 44.9427 - val_mse: 44.9427\n",
      "Epoch 40/40\n",
      "45/45 [==============================] - 2s 37ms/step - loss: 6.9754 - mse: 6.9754 - val_loss: 43.8036 - val_mse: 43.8036\n",
      "Epoch 1/40\n",
      "45/45 [==============================] - 5s 53ms/step - loss: 65.4062 - mse: 65.4062 - val_loss: 280.2789 - val_mse: 280.2789\n",
      "Epoch 2/40\n",
      "45/45 [==============================] - 2s 37ms/step - loss: 65.0326 - mse: 65.0326 - val_loss: 279.7942 - val_mse: 279.7942\n",
      "Epoch 3/40\n",
      "45/45 [==============================] - 2s 37ms/step - loss: 65.2229 - mse: 65.2229 - val_loss: 278.9851 - val_mse: 278.9851\n",
      "Epoch 4/40\n",
      "45/45 [==============================] - 2s 38ms/step - loss: 64.0889 - mse: 64.0889 - val_loss: 272.4176 - val_mse: 272.4176\n",
      "Epoch 5/40\n",
      "45/45 [==============================] - 2s 41ms/step - loss: 58.1645 - mse: 58.1645 - val_loss: 251.2887 - val_mse: 251.2887\n",
      "Epoch 6/40\n",
      "45/45 [==============================] - 2s 38ms/step - loss: 54.0267 - mse: 54.0267 - val_loss: 244.9209 - val_mse: 244.9209\n",
      "Epoch 7/40\n",
      "45/45 [==============================] - 2s 38ms/step - loss: 52.9102 - mse: 52.9102 - val_loss: 244.2633 - val_mse: 244.2633\n",
      "Epoch 8/40\n",
      "45/45 [==============================] - 2s 37ms/step - loss: 52.6641 - mse: 52.6641 - val_loss: 239.0620 - val_mse: 239.0620\n",
      "Epoch 9/40\n",
      "45/45 [==============================] - 2s 37ms/step - loss: 52.3051 - mse: 52.3051 - val_loss: 238.6242 - val_mse: 238.6242\n",
      "Epoch 10/40\n",
      "45/45 [==============================] - 2s 38ms/step - loss: 51.6386 - mse: 51.6386 - val_loss: 235.5789 - val_mse: 235.5789\n",
      "Epoch 11/40\n",
      "45/45 [==============================] - 2s 37ms/step - loss: 52.3838 - mse: 52.3838 - val_loss: 234.0066 - val_mse: 234.0066\n",
      "Epoch 12/40\n",
      "45/45 [==============================] - 2s 39ms/step - loss: 50.5617 - mse: 50.5617 - val_loss: 234.2202 - val_mse: 234.2202\n",
      "Epoch 13/40\n",
      "45/45 [==============================] - 2s 38ms/step - loss: 51.0540 - mse: 51.0540 - val_loss: 239.0639 - val_mse: 239.0639\n",
      "Epoch 14/40\n",
      "45/45 [==============================] - 2s 37ms/step - loss: 50.7728 - mse: 50.7728 - val_loss: 233.4528 - val_mse: 233.4528\n",
      "Epoch 15/40\n",
      "45/45 [==============================] - 2s 37ms/step - loss: 50.8957 - mse: 50.8957 - val_loss: 233.7921 - val_mse: 233.7921\n",
      "Epoch 16/40\n",
      "45/45 [==============================] - 2s 39ms/step - loss: 49.5257 - mse: 49.5257 - val_loss: 230.9098 - val_mse: 230.9098\n",
      "Epoch 17/40\n",
      "45/45 [==============================] - 2s 39ms/step - loss: 49.3368 - mse: 49.3368 - val_loss: 227.8871 - val_mse: 227.8871\n",
      "Epoch 18/40\n",
      "45/45 [==============================] - 2s 38ms/step - loss: 49.2909 - mse: 49.2909 - val_loss: 230.1902 - val_mse: 230.1902\n",
      "Epoch 19/40\n",
      "45/45 [==============================] - 2s 38ms/step - loss: 48.5683 - mse: 48.5683 - val_loss: 231.1804 - val_mse: 231.1804\n",
      "Epoch 20/40\n",
      "45/45 [==============================] - 2s 38ms/step - loss: 47.5021 - mse: 47.5021 - val_loss: 224.1143 - val_mse: 224.1143\n",
      "Epoch 21/40\n",
      "45/45 [==============================] - 2s 37ms/step - loss: 48.0873 - mse: 48.0873 - val_loss: 223.7023 - val_mse: 223.7023\n",
      "Epoch 22/40\n",
      "45/45 [==============================] - 2s 38ms/step - loss: 46.6468 - mse: 46.6468 - val_loss: 223.5311 - val_mse: 223.5311\n",
      "Epoch 23/40\n",
      "45/45 [==============================] - 2s 38ms/step - loss: 48.3400 - mse: 48.3400 - val_loss: 228.9491 - val_mse: 228.9491\n",
      "Epoch 24/40\n",
      "45/45 [==============================] - 2s 40ms/step - loss: 48.5957 - mse: 48.5957 - val_loss: 223.9145 - val_mse: 223.9145\n",
      "Epoch 25/40\n",
      "45/45 [==============================] - 2s 38ms/step - loss: 45.6445 - mse: 45.6445 - val_loss: 221.9537 - val_mse: 221.9537\n",
      "Epoch 26/40\n",
      "45/45 [==============================] - 2s 37ms/step - loss: 45.8872 - mse: 45.8872 - val_loss: 217.9004 - val_mse: 217.9004\n",
      "Epoch 27/40\n",
      "45/45 [==============================] - 2s 38ms/step - loss: 45.6829 - mse: 45.6829 - val_loss: 220.8025 - val_mse: 220.8025\n",
      "Epoch 28/40\n",
      "45/45 [==============================] - 2s 37ms/step - loss: 43.5869 - mse: 43.5869 - val_loss: 219.5964 - val_mse: 219.5964\n",
      "Epoch 29/40\n",
      "45/45 [==============================] - 2s 36ms/step - loss: 43.9745 - mse: 43.9745 - val_loss: 224.5778 - val_mse: 224.5778\n",
      "Epoch 30/40\n",
      "45/45 [==============================] - 2s 37ms/step - loss: 44.7617 - mse: 44.7617 - val_loss: 222.5137 - val_mse: 222.5137\n",
      "Epoch 31/40\n",
      "45/45 [==============================] - 2s 38ms/step - loss: 44.2531 - mse: 44.2531 - val_loss: 223.1754 - val_mse: 223.1754\n",
      "Epoch 32/40\n",
      "45/45 [==============================] - 2s 38ms/step - loss: 43.6417 - mse: 43.6417 - val_loss: 223.5734 - val_mse: 223.5734\n",
      "Epoch 33/40\n",
      "45/45 [==============================] - 2s 39ms/step - loss: 43.8211 - mse: 43.8211 - val_loss: 221.5361 - val_mse: 221.5361\n",
      "Epoch 34/40\n",
      "45/45 [==============================] - 2s 39ms/step - loss: 43.9552 - mse: 43.9552 - val_loss: 219.4169 - val_mse: 219.4169\n",
      "Epoch 35/40\n",
      "45/45 [==============================] - 2s 38ms/step - loss: 42.3542 - mse: 42.3542 - val_loss: 225.1417 - val_mse: 225.1417\n",
      "Epoch 36/40\n",
      "45/45 [==============================] - 2s 38ms/step - loss: 42.3968 - mse: 42.3968 - val_loss: 221.9562 - val_mse: 221.9562\n",
      "Epoch 37/40\n",
      "45/45 [==============================] - 2s 40ms/step - loss: 40.5215 - mse: 40.5215 - val_loss: 228.0104 - val_mse: 228.0104\n",
      "Epoch 38/40\n",
      "45/45 [==============================] - 2s 38ms/step - loss: 42.2938 - mse: 42.2938 - val_loss: 226.3976 - val_mse: 226.3976\n",
      "Epoch 39/40\n",
      "45/45 [==============================] - 2s 39ms/step - loss: 40.3963 - mse: 40.3963 - val_loss: 217.9177 - val_mse: 217.9177\n",
      "Epoch 40/40\n",
      "45/45 [==============================] - 2s 39ms/step - loss: 39.4999 - mse: 39.4999 - val_loss: 220.3986 - val_mse: 220.3986\n"
     ]
    }
   ],
   "source": [
    "history_trend = fit(trend_model, trainX[0], trainY[0], testX[0], testY[0])\n",
    "history_seasonal = fit(seasonal_model, trainX[1], trainY[1], testX[1], testY[1])\n",
    "history_residual = fit(residual_model, trainX[2], trainY[2], testX[2], testY[2])"
   ]
  },
  {
   "cell_type": "code",
   "execution_count": null,
   "metadata": {},
   "outputs": [
    {
     "data": {
      "text/plain": [
       "Text(0.5, 1.0, 'Residual')"
      ]
     },
     "execution_count": 102,
     "metadata": {},
     "output_type": "execute_result"
    },
    {
     "data": {
      "image/png": "[encoded data removed]",
      "text/plain": [
       "<Figure size 640x480 with 3 Axes>"
      ]
     },
     "metadata": {},
     "output_type": "display_data"
    }
   ],
   "source": [
    "fig, (ax1, ax2, ax3) = plt.subplots(3,layout='constrained')\n",
    "fig.suptitle('Validation MSE')\n",
    "ax1.plot(history_trend.history[\"val_mse\"])\n",
    "ax1.set_title('Trend')\n",
    "ax2.plot(history_seasonal.history[\"val_mse\"])\n",
    "ax2.set_title('Seasonal')\n",
    "ax3.plot(history_residual.history[\"val_mse\"])\n",
    "ax3.set_title('Residual')"
   ]
  },
  {
   "attachments": {},
   "cell_type": "markdown",
   "metadata": {},
   "source": [
    "Predict"
   ]
  },
  {
   "cell_type": "code",
   "execution_count": null,
   "metadata": {},
   "outputs": [],
   "source": [
    "def predict(price, features):\n",
    "    price = pd.DataFrame(price)\n",
    "    input_stl = stl_decomp(pd.DataFrame(price))\n",
    "    input_comp = [input_stl.trend, input_stl.seasonal, input_stl.resid]\n",
    "    features_comp = [pd.merge(input_comp[i], features, left_index=True, right_index=True, how='inner') for i in range(3)]\n",
    "    pred_trend = trend_model.predict(np.asarray(features_comp[0]))\n",
    "    pred_seasonal = seasonal_model.predict(np.asarray(features_comp[1]))\n",
    "    pred_residual = residual_model.predict(np.asarray(features_comp[2]))\n",
    "    return pred_trend + pred_seasonal + pred_residual"
   ]
  },
  {
   "cell_type": "code",
   "execution_count": null,
   "metadata": {},
   "outputs": [
    {
     "name": "stdout",
     "output_type": "stream",
     "text": [
      "(30, 35)\n"
     ]
    },
    {
     "ename": "AttributeError",
     "evalue": "'numpy.ndarray' object has no attribute 'asfreq'",
     "output_type": "error",
     "traceback": [
      "\u001b[1;31m---------------------------------------------------------------------------\u001b[0m",
      "\u001b[1;31mAttributeError\u001b[0m                            Traceback (most recent call last)",
      "Cell \u001b[1;32mIn[147], line 5\u001b[0m\n\u001b[0;32m      3\u001b[0m \u001b[39mfor\u001b[39;00m n, i \u001b[39min\u001b[39;00m \u001b[39menumerate\u001b[39m(x):\n\u001b[0;32m      4\u001b[0m     \u001b[39mprint\u001b[39m(i\u001b[39m.\u001b[39mshape)\n\u001b[1;32m----> 5\u001b[0m     prediction \u001b[39m+\u001b[39m\u001b[39m=\u001b[39m [predict(y[n],x[n])]\n",
      "Cell \u001b[1;32mIn[146], line 2\u001b[0m, in \u001b[0;36mpredict\u001b[1;34m(price, features)\u001b[0m\n\u001b[0;32m      1\u001b[0m \u001b[39mdef\u001b[39;00m \u001b[39mpredict\u001b[39m(price, features):\n\u001b[1;32m----> 2\u001b[0m     input_stl \u001b[39m=\u001b[39m stl_decomp(price)\n\u001b[0;32m      3\u001b[0m     input_comp \u001b[39m=\u001b[39m [input_stl\u001b[39m.\u001b[39mtrend, input_stl\u001b[39m.\u001b[39mseasonal, input_stl\u001b[39m.\u001b[39mresid]\n\u001b[0;32m      4\u001b[0m     features_comp \u001b[39m=\u001b[39m [pd\u001b[39m.\u001b[39mmerge(input_comp[i], features, left_index\u001b[39m=\u001b[39m\u001b[39mTrue\u001b[39;00m, right_index\u001b[39m=\u001b[39m\u001b[39mTrue\u001b[39;00m, how\u001b[39m=\u001b[39m\u001b[39m'\u001b[39m\u001b[39minner\u001b[39m\u001b[39m'\u001b[39m) \u001b[39mfor\u001b[39;00m i \u001b[39min\u001b[39;00m \u001b[39mrange\u001b[39m(\u001b[39m3\u001b[39m)]\n",
      "Cell \u001b[1;32mIn[85], line 2\u001b[0m, in \u001b[0;36mstl_decomp\u001b[1;34m(df)\u001b[0m\n\u001b[0;32m      1\u001b[0m \u001b[39mdef\u001b[39;00m \u001b[39mstl_decomp\u001b[39m(df):\n\u001b[1;32m----> 2\u001b[0m     df \u001b[39m=\u001b[39m df\u001b[39m.\u001b[39;49masfreq(pd\u001b[39m.\u001b[39minfer_freq(df\u001b[39m.\u001b[39mindex))\n\u001b[0;32m      3\u001b[0m     df \u001b[39m=\u001b[39m df\u001b[39m.\u001b[39mfillna(method\u001b[39m=\u001b[39m\u001b[39m'\u001b[39m\u001b[39mbfill\u001b[39m\u001b[39m'\u001b[39m)\n\u001b[0;32m      4\u001b[0m     \u001b[39mreturn\u001b[39;00m STL(df)\u001b[39m.\u001b[39mfit()\n",
      "\u001b[1;31mAttributeError\u001b[0m: 'numpy.ndarray' object has no attribute 'asfreq'"
     ]
    }
   ],
   "source": [
    "prediction = []\n",
    "x, y = sampleData(features.to_numpy(), soybean_close_price.to_numpy() ,sampleLength)\n",
    "for n, i in enumerate(x):\n",
    "    print(i.shape)\n",
    "    prediction += [predict(y[n],x[n])]"
   ]
  },
  {
   "cell_type": "code",
   "execution_count": null,
   "metadata": {},
   "outputs": [
    {
     "data": {
      "text/plain": [
       "array([[[ 2.11000000e+01,  3.82000000e+01,  3.00000000e+00, ...,\n",
       "         -3.32000000e+01,  1.66666667e-03,  4.90454545e+00],\n",
       "        [ 2.21092308e+01,  3.42000000e+01,  4.80000000e+00, ...,\n",
       "         -3.12000000e+01,  7.31707317e-04,  6.98181818e+00],\n",
       "        [ 2.33784615e+01,  3.87000000e+01,  4.00000000e+00, ...,\n",
       "         -1.69000000e+01,  1.46341463e-03,  1.02363636e+01],\n",
       "        ...,\n",
       "        [ 2.31484375e+01,  3.65000000e+01,  2.10000000e+00, ...,\n",
       "         -1.47000000e+01,  0.00000000e+00,  8.26744186e+00],\n",
       "        [ 2.37415385e+01,  3.90000000e+01,  4.00000000e+00, ...,\n",
       "         -1.84000000e+01,  5.26315789e-04,  5.55581395e+00],\n",
       "        [ 2.42415385e+01,  3.90000000e+01,  5.90000000e+00, ...,\n",
       "         -1.61000000e+01,  0.00000000e+00,  9.27441860e+00]],\n",
       "\n",
       "       [[ 2.21092308e+01,  3.42000000e+01,  4.80000000e+00, ...,\n",
       "         -3.12000000e+01,  7.31707317e-04,  6.98181818e+00],\n",
       "        [ 2.33784615e+01,  3.87000000e+01,  4.00000000e+00, ...,\n",
       "         -1.69000000e+01,  1.46341463e-03,  1.02363636e+01],\n",
       "        [ 2.55250000e+01,  4.11000000e+01,  3.50000000e+00, ...,\n",
       "         -2.29000000e+01,  1.45833333e-03,  4.77500000e+00],\n",
       "        ...,\n",
       "        [ 2.37415385e+01,  3.90000000e+01,  4.00000000e+00, ...,\n",
       "         -1.84000000e+01,  5.26315789e-04,  5.55581395e+00],\n",
       "        [ 2.42415385e+01,  3.90000000e+01,  5.90000000e+00, ...,\n",
       "         -1.61000000e+01,  0.00000000e+00,  9.27441860e+00],\n",
       "        [ 2.32921875e+01,  3.60000000e+01,  0.00000000e+00, ...,\n",
       "         -7.70000000e+00,  0.00000000e+00,  8.75581395e+00]],\n",
       "\n",
       "       [[ 2.33784615e+01,  3.87000000e+01,  4.00000000e+00, ...,\n",
       "         -1.69000000e+01,  1.46341463e-03,  1.02363636e+01],\n",
       "        [ 2.55250000e+01,  4.11000000e+01,  3.50000000e+00, ...,\n",
       "         -2.29000000e+01,  1.45833333e-03,  4.77500000e+00],\n",
       "        [ 2.35676923e+01,  4.20000000e+01,  5.80000000e+00, ...,\n",
       "         -2.00000000e+01,  6.81818182e-04,  5.37045455e+00],\n",
       "        ...,\n",
       "        [ 2.42415385e+01,  3.90000000e+01,  5.90000000e+00, ...,\n",
       "         -1.61000000e+01,  0.00000000e+00,  9.27441860e+00],\n",
       "        [ 2.32921875e+01,  3.60000000e+01,  0.00000000e+00, ...,\n",
       "         -7.70000000e+00,  0.00000000e+00,  8.75581395e+00],\n",
       "        [ 2.48428571e+01,  3.61000000e+01,  3.90000000e+00, ...,\n",
       "         -1.60000000e+01,  7.11111111e-03,  1.00488372e+01]],\n",
       "\n",
       "       ...,\n",
       "\n",
       "       [[ 1.25162500e+01,  2.92000000e+01, -1.06000000e+01, ...,\n",
       "         -3.30000000e+00,  3.29166667e-02,  5.60227273e+00],\n",
       "        [ 1.10469136e+01,  2.85000000e+01, -1.15000000e+01, ...,\n",
       "         -3.50000000e+00,  8.63265306e-02,  6.42666667e+00],\n",
       "        [ 1.18432099e+01,  2.56000000e+01, -8.90000000e+00, ...,\n",
       "         -3.70000000e+00,  5.08333333e-02,  5.88444444e+00],\n",
       "        ...,\n",
       "        [ 1.03933333e+01,  3.06000000e+01, -8.00000000e+00, ...,\n",
       "          1.00000000e+01,  4.25531915e-04,  1.15045455e+01],\n",
       "        [ 1.08875000e+01,  2.26000000e+01, -7.00000000e+00, ...,\n",
       "          8.30000000e+00,  4.89361702e-03,  8.34545455e+00],\n",
       "        [ 1.28839506e+01,  2.42000000e+01, -9.00000000e+00, ...,\n",
       "          1.06000000e+01,  8.33333333e-04,  9.00222222e+00]],\n",
       "\n",
       "       [[ 1.10469136e+01,  2.85000000e+01, -1.15000000e+01, ...,\n",
       "         -3.50000000e+00,  8.63265306e-02,  6.42666667e+00],\n",
       "        [ 1.18432099e+01,  2.56000000e+01, -8.90000000e+00, ...,\n",
       "         -3.70000000e+00,  5.08333333e-02,  5.88444444e+00],\n",
       "        [ 1.22113924e+01,  2.60000000e+01, -5.30000000e+00, ...,\n",
       "         -3.70000000e+00,  3.12765957e-02,  8.31111111e+00],\n",
       "        ...,\n",
       "        [ 1.08875000e+01,  2.26000000e+01, -7.00000000e+00, ...,\n",
       "          8.30000000e+00,  4.89361702e-03,  8.34545455e+00],\n",
       "        [ 1.28839506e+01,  2.42000000e+01, -9.00000000e+00, ...,\n",
       "          1.06000000e+01,  8.33333333e-04,  9.00222222e+00],\n",
       "        [ 1.35259259e+01,  2.45000000e+01, -6.30000000e+00, ...,\n",
       "          9.70000000e+00,  9.70833333e-02,  7.39333333e+00]],\n",
       "\n",
       "       [[ 1.18432099e+01,  2.56000000e+01, -8.90000000e+00, ...,\n",
       "         -3.70000000e+00,  5.08333333e-02,  5.88444444e+00],\n",
       "        [ 1.22113924e+01,  2.60000000e+01, -5.30000000e+00, ...,\n",
       "         -3.70000000e+00,  3.12765957e-02,  8.31111111e+00],\n",
       "        [ 1.22316456e+01,  2.70000000e+01, -3.50000000e+00, ...,\n",
       "         -3.30000000e+00,  1.09333333e-01,  7.81777778e+00],\n",
       "        ...,\n",
       "        [ 1.28839506e+01,  2.42000000e+01, -9.00000000e+00, ...,\n",
       "          1.06000000e+01,  8.33333333e-04,  9.00222222e+00],\n",
       "        [ 1.35259259e+01,  2.45000000e+01, -6.30000000e+00, ...,\n",
       "          9.70000000e+00,  9.70833333e-02,  7.39333333e+00],\n",
       "        [ 1.24912500e+01,  2.50000000e+01, -7.90000000e+00, ...,\n",
       "          1.17000000e+01,  4.16666667e-04,  8.32444444e+00]]])"
      ]
     },
     "execution_count": 149,
     "metadata": {},
     "output_type": "execute_result"
    }
   ],
   "source": [
    "x"
   ]
  },
  {
   "cell_type": "code",
   "execution_count": null,
   "metadata": {},
   "outputs": [
    {
     "data": {
      "text/plain": [
       "array([ 955.  ,  959.75,  959.25, ..., 1506.5 , 1508.75, 1519.25])"
      ]
     },
     "execution_count": 143,
     "metadata": {},
     "output_type": "execute_result"
    }
   ],
   "source": [
    "soybean_close_price.to_numpy()"
   ]
  },
  {
   "cell_type": "code",
   "execution_count": null,
   "metadata": {},
   "outputs": [],
   "source": []
  }
 ],
 "metadata": {
  "kernelspec": {
   "display_name": "base",
   "language": "python",
   "name": "python3"
  },
  "language_info": {
   "codemirror_mode": {
    "name": "ipython",
    "version": 3
   },
   "file_extension": ".py",
   "mimetype": "text/x-python",
   "name": "python",
   "nbconvert_exporter": "python",
   "pygments_lexer": "ipython3",
   "version": "3.10.9"
  },
  "orig_nbformat": 4
 },
 "nbformat": 4,
 "nbformat_minor": 2
}
